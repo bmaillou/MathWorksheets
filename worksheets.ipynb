{
 "metadata": {
  "name": "worksheets.ipynb"
 },
 "nbformat": 3,
 "nbformat_minor": 0,
 "worksheets": [
  {
   "cells": [
    {
     "cell_type": "code",
     "collapsed": false,
     "input": [
      "#This makes math addition sheets with two columns that fit on one page in html\n",
      "#You choose you lower and upper ranges and then it makes it.  You can\n",
      "# choose how may files you would like to make and then how many equations per page.\n",
      "#I use the random number generator to get a variety of problems. \n",
      "for pages in range(1,20):\n",
      "    low=1\n",
      "    up=50\n",
      "    title='sheets/addition-'+str(low)+'to'+str(up)+'-file'+str(pages)+'.html'\n",
      "    f=open(title,'wb')\n",
      "    temp='Addition between '+str(low)+' and '+str(up)+'<br><br>'\n",
      "    output=[]\n",
      "    output.append(temp)\n",
      "    for i in range(0,12):\n",
      "        temp='{:2d} + {:2d}=                         {:2d} + {:2d}=<br><br>'\\\n",
      "                .format(random.randint(low,up),random.randint(low,up),random.randint(low,up)\\\n",
      "                ,random.randint(low,up))\n",
      "        output.append(temp)\n",
      "    \n",
      "    print 'file ',title\n",
      "    final=''.join(output)\n",
      "    f.write( '<html><body><h1><pre>{}</pre></h1></body></html>'.format(final))\n",
      "    f.close() "
     ],
     "language": "python",
     "metadata": {},
     "outputs": [
      {
       "output_type": "stream",
       "stream": "stdout",
       "text": [
        "file  sheets/addition-1to50-file1.html\n",
        "file  sheets/addition-1to50-file2.html\n",
        "file  sheets/addition-1to50-file3.html\n",
        "file  sheets/addition-1to50-file4.html\n",
        "file  sheets/addition-1to50-file5.html\n",
        "file  sheets/addition-1to50-file6.html\n",
        "file  sheets/addition-1to50-file7.html\n",
        "file  sheets/addition-1to50-file8.html\n",
        "file  sheets/addition-1to50-file9.html\n",
        "file  sheets/addition-1to50-file10.html\n",
        "file  sheets/addition-1to50-file11.html\n",
        "file  sheets/addition-1to50-file12.html\n",
        "file  sheets/addition-1to50-file13.html\n",
        "file  sheets/addition-1to50-file14.html\n",
        "file  sheets/addition-1to50-file15.html\n",
        "file  sheets/addition-1to50-file16.html\n",
        "file  sheets/addition-1to50-file17.html\n",
        "file  sheets/addition-1to50-file18.html\n",
        "file  sheets/addition-1to50-file19.html\n"
       ]
      }
     ],
     "prompt_number": 10
    },
    {
     "cell_type": "code",
     "collapsed": false,
     "input": [
      "# This makes mulitplication sheets.  This is for sheets similar to 1 minute math where the students\n",
      "#try to do as many multiplication as they can do in some short amount of time.  \n",
      "#I use the random number generator to get a variety of problems. \n",
      "\n",
      "for pages in range(1,20):\n",
      "    low=1\n",
      "    up=5\n",
      "    title='sheets/multiplication-'+str(low)+'to'+str(up)+'-file'+str(pages)+'.html'\n",
      "    f=open(title,'wb')\n",
      "    temp='Mulitplication between '+str(low)+' and '+str(up)+'<br><br>'\n",
      "    output=[]\n",
      "    output.append(temp)\n",
      "    for i in range(0,15):\n",
      "        temp= '{:2d} *{:2d}=              {:2d} *{:2d}=              {:2d} *{:2d}=  <br><br>'\\\n",
      "            .format(random.randint(low,up),random.randint(low,up)\\\n",
      "            ,random.randint(low,up),random.randint(low,up),\\\n",
      "            random.randint(low,up),random.randint(low,up))        \n",
      "        output.append(temp)\n",
      "    \n",
      "    print 'file ',title\n",
      "    final=''.join(output)\n",
      "    f.write( '<html><body><h2><pre>{}</pre></h2></body></html>'.format(final))\n",
      "    f.close()\n"
     ],
     "language": "python",
     "metadata": {},
     "outputs": [
      {
       "output_type": "stream",
       "stream": "stdout",
       "text": [
        "file  sheets/multiplication-1to5-file1.html\n",
        "file  sheets/multiplication-1to5-file2.html\n",
        "file  sheets/multiplication-1to5-file3.html\n",
        "file  sheets/multiplication-1to5-file4.html\n",
        "file  sheets/multiplication-1to5-file5.html\n",
        "file  sheets/multiplication-1to5-file6.html\n",
        "file  sheets/multiplication-1to5-file7.html\n",
        "file  sheets/multiplication-1to5-file8.html\n",
        "file  sheets/multiplication-1to5-file9.html\n",
        "file  sheets/multiplication-1to5-file10.html\n",
        "file  sheets/multiplication-1to5-file11.html\n",
        "file  sheets/multiplication-1to5-file12.html\n",
        "file  sheets/multiplication-1to5-file13.html\n",
        "file  sheets/multiplication-1to5-file14.html\n",
        "file  sheets/multiplication-1to5-file15.html\n",
        "file  sheets/multiplication-1to5-file16.html\n",
        "file  sheets/multiplication-1to5-file17.html\n",
        "file  sheets/multiplication-1to5-file18.html\n",
        "file  sheets/multiplication-1to5-file19.html\n"
       ]
      }
     ],
     "prompt_number": 18
    },
    {
     "cell_type": "code",
     "collapsed": false,
     "input": [
      "import random\n",
      "low=1\n",
      "up=144\n",
      "divisor_up=10\n",
      "for i in range(0,20):\n",
      "    bad_answer=True\n",
      "    while bad_answer:\n",
      "        rand1=random.randint(low,up)\n",
      "        if rand1<divisor_up: \n",
      "            divisor_up=rand1\n",
      "        #print rand1\n",
      "        divisor=True\n",
      "        while divisor:\n",
      "            rand2=random.randint(low,divisor_up)\n",
      "            if rand1%rand2==0:\n",
      "                #print rand2,'\\n'\n",
      "                divisor=False\n",
      "        if rand2>=2 and rand2<rand1:\n",
      "            bad_answer=False\n",
      "    print rand1,'/',rand2,'='\n",
      "    #print '{:2d} * {:2d}= '.format(rand1,rand2)"
     ],
     "language": "python",
     "metadata": {},
     "outputs": [
      {
       "output_type": "stream",
       "stream": "stdout",
       "text": [
        "62 / 2 =\n",
        "92 / 2 =\n",
        "69 / 3 =\n",
        "48 / 3 =\n",
        "28 / 2 =\n",
        "22 / 2 =\n",
        "120 / 6 =\n",
        "94 / 2 =\n",
        "84 / 4 =\n",
        "85 / 5 =\n",
        "124 / 4 =\n",
        "115 / 5 =\n",
        "44 / 4 =\n",
        "12 / 3 =\n",
        "56 / 4 =\n",
        "138 / 6 =\n",
        "34 / 2 =\n",
        "30 / 6 =\n",
        "60 / 10 =\n",
        "42 / 3 =\n"
       ]
      }
     ],
     "prompt_number": 28
    },
    {
     "cell_type": "code",
     "collapsed": false,
     "input": [
      "import random\n",
      "low=1\n",
      "up=144\n",
      "for i in range(0,5):\n",
      "    rand1=random.randint(low,up)\n",
      "    rand2=random.randint(low,rand1)\n",
      "    print ' {:>3d}\\n-{:>3d}\\n----\\n\\n\\n\\n'.format(rand1,rand2)"
     ],
     "language": "python",
     "metadata": {},
     "outputs": [
      {
       "output_type": "stream",
       "stream": "stdout",
       "text": [
        "  98\n",
        "- 58\n",
        "----\n",
        "\n",
        "\n",
        "\n",
        "\n",
        "  44\n",
        "- 13\n",
        "----\n",
        "\n",
        "\n",
        "\n",
        "\n",
        "  27\n",
        "- 13\n",
        "----\n",
        "\n",
        "\n",
        "\n",
        "\n",
        "  96\n",
        "- 39\n",
        "----\n",
        "\n",
        "\n",
        "\n",
        "\n",
        "   9\n",
        "-  1\n",
        "----\n",
        "\n",
        "\n",
        "\n",
        "\n"
       ]
      }
     ],
     "prompt_number": 26
    },
    {
     "cell_type": "code",
     "collapsed": false,
     "input": [
      "from Tkinter import *\n",
      "\n",
      "root = Tk()\n",
      "\n",
      "v = IntVar()\n",
      "v.set(1)  # initializing the choice, i.e. Python\n",
      "\n",
      "languages = [\n",
      "    (\"+\",1),\n",
      "    (\"-\",2),\n",
      "    (\"*\",3),\n",
      "    (\"/\",4),\n",
      "]\n",
      "\n",
      "def ShowChoice():\n",
      "    print v.get()\n",
      "\n",
      "Label(root, \n",
      "      text=\"\"\"Choose your arithmetic:\"\"\",\n",
      "      justify = LEFT,\n",
      "      padx = 20).pack()\n",
      "\n",
      "for txt, val in languages:\n",
      "    Radiobutton(root, \n",
      "                text=txt,\n",
      "                padx = 20, \n",
      "                variable=v, \n",
      "                command=ShowChoice,\n",
      "                value=val).pack(anchor=W)\n",
      "\n",
      "mainloop()"
     ],
     "language": "python",
     "metadata": {},
     "outputs": [
      {
       "output_type": "stream",
       "stream": "stdout",
       "text": [
        "2\n",
        "3"
       ]
      },
      {
       "output_type": "stream",
       "stream": "stdout",
       "text": [
        "\n",
        "4"
       ]
      },
      {
       "output_type": "stream",
       "stream": "stdout",
       "text": [
        "\n",
        "1"
       ]
      },
      {
       "output_type": "stream",
       "stream": "stdout",
       "text": [
        "\n",
        "2"
       ]
      },
      {
       "output_type": "stream",
       "stream": "stdout",
       "text": [
        "\n",
        "3"
       ]
      },
      {
       "output_type": "stream",
       "stream": "stdout",
       "text": [
        "\n",
        "4"
       ]
      },
      {
       "output_type": "stream",
       "stream": "stdout",
       "text": [
        "\n"
       ]
      }
     ],
     "prompt_number": 5
    },
    {
     "cell_type": "code",
     "collapsed": false,
     "input": [
      "from Tkinter import *\n",
      "fields = ('Annual Rate', 'Number of Payments', 'Loan Principle', 'Monthly Payment', 'Remaining Loan')\n",
      "\n",
      "def monthly_payment(entries):\n",
      "   # period rate:\n",
      "   r = (float(entries['Annual Rate'].get()) / 100) / 12\n",
      "   print(\"r\", r)\n",
      "   # principal loan:\n",
      "   loan = float(entries['Loan Principle'].get())\n",
      "   n =  float(entries['Number of Payments'].get())\n",
      "   remaining_loan = float(entries['Remaining Loan'].get())\n",
      "   q = (1 + r)** n\n",
      "   monthly = r * ( (q * loan - remaining_loan) / ( q - 1 ))\n",
      "   monthly = (\"%8.2f\" % monthly).strip()\n",
      "   entries['Monthly Payment'].delete(0,END)\n",
      "   entries['Monthly Payment'].insert(0, monthly )\n",
      "   print(\"Monthly Payment: %f\" % monthly)\n",
      "\n",
      "def final_balance(entries):\n",
      "   # period rate:\n",
      "   r = (float(entries['Annual Rate'].get()) / 100) / 12\n",
      "   print(\"r\", r)\n",
      "   # principal loan:\n",
      "   loan = float(entries['Loan Principle'].get())\n",
      "   n =  float(entries['Number of Payments'].get()) \n",
      "   q = (1 + r)** n\n",
      "   monthly = float(entries['Monthly Payment'].get())\n",
      "   q = (1 + r)** n\n",
      "   remaining = q * loan  - ( (q - 1) / r) * monthly\n",
      "   remaining = (\"%8.2f\" % remaining).strip()\n",
      "   entries['Remaining Loan'].delete(0,END)\n",
      "   entries['Remaining Loan'].insert(0, remaining )\n",
      "   print(\"Remaining Loan: %f\" % remaining)\n",
      "\n",
      "def makeform(root, fields):\n",
      "   entries = {}\n",
      "   for field in fields:\n",
      "      row = Frame(root)\n",
      "      lab = Label(row, width=22, text=field+\": \", anchor='w')\n",
      "      ent = Entry(row)\n",
      "      ent.insert(0,\"0\")\n",
      "      row.pack(side=TOP, fill=X, padx=5, pady=5)\n",
      "      lab.pack(side=LEFT)\n",
      "      ent.pack(side=RIGHT, expand=YES, fill=X)\n",
      "      entries[field] = ent\n",
      "   return entries\n",
      "\n",
      "if __name__ == '__main__':\n",
      "   root = Tk()\n",
      "   ents = makeform(root, fields)\n",
      "   root.bind('<Return>', (lambda event, e=ents: fetch(e)))   \n",
      "   b1 = Button(root, text='Final Balance',\n",
      "          command=(lambda e=ents: final_balance(e)))\n",
      "   b1.pack(side=LEFT, padx=5, pady=5)\n",
      "   b2 = Button(root, text='Monthly Payment',\n",
      "          command=(lambda e=ents: monthly_payment(e)))\n",
      "   b2.pack(side=LEFT, padx=5, pady=5)\n",
      "   b3 = Button(root, text='Quit', command=root.quit)\n",
      "   b3.pack(side=LEFT, padx=5, pady=5)\n",
      "   root.mainloop()"
     ],
     "language": "python",
     "metadata": {},
     "outputs": [
      {
       "output_type": "stream",
       "stream": "stderr",
       "text": [
        "Exception in Tkinter callback\n",
        "Traceback (most recent call last):\n",
        "  File \"/Applications/Canopy.app/appdata/canopy-1.4.0.1938.macosx-x86_64/Canopy.app/Contents/lib/python2.7/lib-tk/Tkinter.py\", line 1470, in __call__\n",
        "    return self.func(*args)\n"
       ]
      },
      {
       "output_type": "stream",
       "stream": "stdout",
       "text": [
        "('r', 0.00025)\n",
        "('r', 0.00025)"
       ]
      },
      {
       "output_type": "stream",
       "stream": "stderr",
       "text": [
        "  File \"<ipython-input-7-669539317f56>\", line 53, in <lambda>\n",
        "    command=(lambda e=ents: final_balance(e)))\n",
        "  File \"<ipython-input-7-669539317f56>\", line 33, in final_balance\n",
        "    print(\"Remaining Loan: %f\" % remaining)\n",
        "TypeError: float argument required, not str\n",
        "Exception in Tkinter callback\n"
       ]
      },
      {
       "output_type": "stream",
       "stream": "stdout",
       "text": [
        "\n",
        "('r', 0.00025)"
       ]
      },
      {
       "output_type": "stream",
       "stream": "stderr",
       "text": [
        "Traceback (most recent call last):\n",
        "  File \"/Applications/Canopy.app/appdata/canopy-1.4.0.1938.macosx-x86_64/Canopy.app/Contents/lib/python2.7/lib-tk/Tkinter.py\", line 1470, in __call__\n",
        "    return self.func(*args)\n",
        "  File \"<ipython-input-7-669539317f56>\", line 56, in <lambda>\n",
        "    command=(lambda e=ents: monthly_payment(e)))\n",
        "  File \"<ipython-input-7-669539317f56>\", line 17, in monthly_payment\n",
        "    print(\"Monthly Payment: %f\" % monthly)\n",
        "TypeError: float argument required, not str\n",
        "Exception in Tkinter callback\n"
       ]
      },
      {
       "output_type": "stream",
       "stream": "stdout",
       "text": [
        "\n",
        "('r', 0.00025)"
       ]
      },
      {
       "output_type": "stream",
       "stream": "stderr",
       "text": [
        "Traceback (most recent call last):\n",
        "  File \"/Applications/Canopy.app/appdata/canopy-1.4.0.1938.macosx-x86_64/Canopy.app/Contents/lib/python2.7/lib-tk/Tkinter.py\", line 1470, in __call__\n",
        "    return self.func(*args)\n",
        "  File \"<ipython-input-7-669539317f56>\", line 53, in <lambda>\n",
        "    command=(lambda e=ents: final_balance(e)))\n",
        "  File \"<ipython-input-7-669539317f56>\", line 33, in final_balance\n",
        "    print(\"Remaining Loan: %f\" % remaining)\n",
        "TypeError: float argument required, not str\n",
        "Exception in Tkinter callback\n"
       ]
      },
      {
       "output_type": "stream",
       "stream": "stdout",
       "text": [
        "\n"
       ]
      },
      {
       "output_type": "stream",
       "stream": "stderr",
       "text": [
        "Traceback (most recent call last):\n",
        "  File \"/Applications/Canopy.app/appdata/canopy-1.4.0.1938.macosx-x86_64/Canopy.app/Contents/lib/python2.7/lib-tk/Tkinter.py\", line 1470, in __call__\n",
        "    return self.func(*args)\n",
        "  File \"<ipython-input-7-669539317f56>\", line 56, in <lambda>\n",
        "    command=(lambda e=ents: monthly_payment(e)))\n",
        "  File \"<ipython-input-7-669539317f56>\", line 17, in monthly_payment\n",
        "    print(\"Monthly Payment: %f\" % monthly)\n",
        "TypeError: float argument required, not str\n"
       ]
      }
     ],
     "prompt_number": 7
    },
    {
     "cell_type": "code",
     "collapsed": false,
     "input": [],
     "language": "python",
     "metadata": {},
     "outputs": []
    }
   ],
   "metadata": {}
  }
 ]
}